{
  "nbformat": 4,
  "nbformat_minor": 0,
  "metadata": {
    "colab": {
      "name": "Chatbot",
      "provenance": [],
      "collapsed_sections": []
    },
    "kernelspec": {
      "name": "python3",
      "display_name": "Python 3"
    },
    "language_info": {
      "name": "python"
    }
  },
  "cells": [
    {
      "cell_type": "markdown",
      "metadata": {
        "id": "3p3KIaIPiz_R"
      },
      "source": [
        "## **The Intern Academy**\n",
        "## **Python Projects - Task 2**\n",
        "## **Creating a Chatbot **\n",
        "### By Shreya Basu"
      ]
    },
    {
      "cell_type": "code",
      "metadata": {
        "id": "axx835J6ijA5"
      },
      "source": [
        "#importing the required packages\n",
        "import nltk\n",
        "import numpy as np\n",
        "import random\n",
        "import string"
      ],
      "execution_count": null,
      "outputs": []
    },
    {
      "cell_type": "code",
      "metadata": {
        "colab": {
          "base_uri": "https://localhost:8080/"
        },
        "id": "yHyixVEfYlNP",
        "outputId": "4c417fd6-c954-4927-c366-cec0e5ce4514"
      },
      "source": [
        "#reading the file\n",
        "f=open('conversations.json','r',errors = 'ignore')\n",
        "raw=f.read\n",
        "\n",
        "nltk.download('punkt')\n",
        "nltk.download('wordnet')"
      ],
      "execution_count": null,
      "outputs": [
        {
          "output_type": "stream",
          "text": [
            "[nltk_data] Downloading package punkt to /root/nltk_data...\n",
            "[nltk_data]   Package punkt is already up-to-date!\n",
            "[nltk_data] Downloading package wordnet to /root/nltk_data...\n",
            "[nltk_data]   Package wordnet is already up-to-date!\n"
          ],
          "name": "stdout"
        },
        {
          "output_type": "execute_result",
          "data": {
            "text/plain": [
              "True"
            ]
          },
          "metadata": {
            "tags": []
          },
          "execution_count": 14
        }
      ]
    },
    {
      "cell_type": "code",
      "metadata": {
        "id": "f1BX1GsNYyi3"
      },
      "source": [
        "from nltk.tag import pos_tag\n",
        "from nltk.tokenize import word_tokenize\n",
        "from nltk.stem import WordNetLemmatizer"
      ],
      "execution_count": null,
      "outputs": []
    },
    {
      "cell_type": "code",
      "metadata": {
        "id": "50CH1DCdY1pn"
      },
      "source": [
        "lemmer = nltk.stem.WordNetLemmatizer()\n",
        "\n",
        "def lemtokens(tokens):\n",
        "  return [lemmer.lemmatize(token) for token in tokens]\n",
        "remove_punct_dict = dict((ord(punct), None) for punct in string.punctuation)\n",
        "\n",
        "def lemNormalize(text):\n",
        "  return lemtokens(nltk.word_tokenize(text.lower().translate(remove_punct_dict)))"
      ],
      "execution_count": null,
      "outputs": []
    },
    {
      "cell_type": "code",
      "metadata": {
        "id": "JpsDZUB9Y4QF"
      },
      "source": [
        "GREETING_INPUTS = ('hello', 'hi', 'greetings', 'sup', \"what's up\", 'hey',)\n",
        "GREETING_RESPONSES = ['hi', 'hey', 'nods', ' hi there','hello']\n",
        "def greeting(sentence):\n",
        "  for word in sentence.split():\n",
        "    if word.lower() in GREETING_INPUTS:\n",
        "      return random.choice(GREETING_RESPONSES)"
      ],
      "execution_count": null,
      "outputs": []
    },
    {
      "cell_type": "code",
      "metadata": {
        "id": "Rbu9kR-cY7F6"
      },
      "source": [
        "from sklearn.feature_extraction.text import TfidfVectorizer\n",
        "from sklearn.metrics.pairwise import cosine_similarity"
      ],
      "execution_count": null,
      "outputs": []
    },
    {
      "cell_type": "code",
      "metadata": {
        "id": "LsJd7-ptY-vx"
      },
      "source": [
        "def response(user_response):\n",
        "  robo_response=''\n",
        "  sent_tokens.append(user_response)\n",
        "  TfidVec = TfidfVectorizer(tokenizer=LemNormalize, stop_words='english')\n",
        "  tfidf= TfidfVec.fit.transform(sent_tokens)\n",
        "  vals = cosine_similarity(tfidf[-1], tfidf)\n",
        "  idx = vals.argsort()[0][-2]\n",
        "  flat = vlas.flatten()\n",
        "  flat.sort()\n",
        "  reg_tfidf = flat[-2]\n",
        "  if(reg_tfidf==0):\n",
        "    robo_response = robo_response+\"I am sorry! I don't understand you\"\n",
        "    return robo_response\n",
        "  else:\n",
        "    robo_response = robo_response+\"sent_tokens[idx]\"\n",
        "  return robo_response"
      ],
      "execution_count": null,
      "outputs": []
    },
    {
      "cell_type": "code",
      "metadata": {
        "colab": {
          "base_uri": "https://localhost:8080/"
        },
        "id": "fkRgp0J0ZD5E",
        "outputId": "c1b8f5dd-1826-48da-8a8e-c7173714a9d6"
      },
      "source": [
        "flag=True\n",
        "print(\"Chatbot: My name is Buddy! I am a Chatbot. If you want to quit, just type Bye anytime!!\")\n",
        "while(flag==True):\n",
        "  user_response = input()\n",
        "  user_response = user_response.lower()\n",
        "  if(user_response!='bye'):\n",
        "    if(user_response=='thanks' or user_response=='thank you'):\n",
        "      flag=False\n",
        "      print(\"SampleBot: You're welcome!\")\n",
        "    else:\n",
        "      if(greeting(user_response)!=None):\n",
        "        print(\"SampleBot: \"+greeting(user_response))\n",
        "      else:\n",
        "        print(\"SampleBot: \", end=\"Can't understand you\")\n",
        "  else:\n",
        "    flag=False\n",
        "    print(\"SampleBot: Thanks for talking, bye bye!\")"
      ],
      "execution_count": null,
      "outputs": [
        {
          "output_type": "stream",
          "text": [
            "Chatbot: My name is Buddy! I am a Chatbot. If you want to quit, just type Bye anytime!!\n",
            "hi\n",
            "SampleBot: hello\n",
            "age?\n",
            "SampleBot: Can't understand youhey\n",
            "SampleBot: hi\n",
            "bye\n",
            "SampleBot: Thanks for talking, bye bye!\n"
          ],
          "name": "stdout"
        }
      ]
    }
  ]
}